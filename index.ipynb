{
 "cells": [
  {
   "cell_type": "markdown",
   "id": "69cefeb6",
   "metadata": {},
   "source": [
    "### PREDICTING CRSP (CURRENT RETAIL SELLING PRICE) FOR KRA AUTOMOBILE DATA"
   ]
  },
  {
   "cell_type": "markdown",
   "id": "d507b4ae",
   "metadata": {},
   "source": [
    "### IDE (Initial Data Exploration)"
   ]
  },
  {
   "cell_type": "code",
   "execution_count": 266,
   "id": "95ff4ebc",
   "metadata": {},
   "outputs": [],
   "source": [
    "# Mathematical Operations Library\n",
    "import numpy as np\n",
    "\n",
    "# Data Manipulation Library\n",
    "import pandas as pd\n",
    "\n",
    "# Visualisation Libraries\n",
    "import matplotlib.pyplot as plt\n",
    "plt.style.use('seaborn-v0_8-whitegrid')\n",
    "import seaborn as sns \n",
    "\n",
    "# Statistical Libraries\n",
    "import statsmodels.api as sm\n",
    "\n",
    "# Machine Learning Libraries\n",
    "import scipy.stats as stats\n",
    "import sklearn.preprocessing as preprocessing\n",
    "from sklearn.preprocessing import OneHotEncoder\n",
    "from sklearn.metrics import r2_score, mean_squared_error, root_mean_squared_error\n",
    "from sklearn.linear_model import LinearRegression, LogisticRegression\n",
    "from sklearn.model_selection import train_test_split\n",
    "from sklearn.preprocessing import MinMaxScaler, StandardScaler\n",
    "from sklearn.impute import SimpleImputer\n",
    "\n",
    "# Filter warnings\n",
    "import warnings\n",
    "warnings.filterwarnings('ignore')"
   ]
  },
  {
   "cell_type": "code",
   "execution_count": 267,
   "id": "276a42ae",
   "metadata": {},
   "outputs": [
    {
     "data": {
      "text/html": [
       "<div>\n",
       "<style scoped>\n",
       "    .dataframe tbody tr th:only-of-type {\n",
       "        vertical-align: middle;\n",
       "    }\n",
       "\n",
       "    .dataframe tbody tr th {\n",
       "        vertical-align: top;\n",
       "    }\n",
       "\n",
       "    .dataframe thead th {\n",
       "        text-align: right;\n",
       "    }\n",
       "</style>\n",
       "<table border=\"1\" class=\"dataframe\">\n",
       "  <thead>\n",
       "    <tr style=\"text-align: right;\">\n",
       "      <th></th>\n",
       "      <th>Make</th>\n",
       "      <th>Model</th>\n",
       "      <th>Model \\nnumber</th>\n",
       "      <th>Transmission</th>\n",
       "      <th>Drive\\nConfiguration</th>\n",
       "      <th>Engine \\nCapacity</th>\n",
       "      <th>Body \\nType</th>\n",
       "      <th>GVW</th>\n",
       "      <th>Seating</th>\n",
       "      <th>Fuel</th>\n",
       "      <th>CRSP (KES.)</th>\n",
       "    </tr>\n",
       "  </thead>\n",
       "  <tbody>\n",
       "    <tr>\n",
       "      <th>0</th>\n",
       "      <td>AIWAYS</td>\n",
       "      <td>U5</td>\n",
       "      <td>NaN</td>\n",
       "      <td>AT</td>\n",
       "      <td>FWD</td>\n",
       "      <td>63 kWh</td>\n",
       "      <td>SUV</td>\n",
       "      <td>2155</td>\n",
       "      <td>5</td>\n",
       "      <td>ELECTRIC</td>\n",
       "      <td>5.910345e+06</td>\n",
       "    </tr>\n",
       "    <tr>\n",
       "      <th>1</th>\n",
       "      <td>AIWAYS</td>\n",
       "      <td>U6</td>\n",
       "      <td>NaN</td>\n",
       "      <td>AT</td>\n",
       "      <td>FWD</td>\n",
       "      <td>63 kWh</td>\n",
       "      <td>SUV</td>\n",
       "      <td>1820</td>\n",
       "      <td>5</td>\n",
       "      <td>ELECTRIC</td>\n",
       "      <td>8.232266e+06</td>\n",
       "    </tr>\n",
       "    <tr>\n",
       "      <th>2</th>\n",
       "      <td>AUDI</td>\n",
       "      <td>3.0TFSI QUATTRO S LINE PACKAGE</td>\n",
       "      <td>WAUZZZ4M8JD01</td>\n",
       "      <td>AT</td>\n",
       "      <td>4WD</td>\n",
       "      <td>3000</td>\n",
       "      <td>SUV</td>\n",
       "      <td>NaN</td>\n",
       "      <td>NaN</td>\n",
       "      <td>GASOLINE</td>\n",
       "      <td>1.621063e+07</td>\n",
       "    </tr>\n",
       "    <tr>\n",
       "      <th>3</th>\n",
       "      <td>AUDI</td>\n",
       "      <td>A1 SPORTBACK 1.0 TFSI</td>\n",
       "      <td>DBA-8XCHZ</td>\n",
       "      <td>AT</td>\n",
       "      <td>2WD</td>\n",
       "      <td>1000</td>\n",
       "      <td>HATCHBACK</td>\n",
       "      <td>NaN</td>\n",
       "      <td>NaN</td>\n",
       "      <td>GASOLINE</td>\n",
       "      <td>5.953578e+06</td>\n",
       "    </tr>\n",
       "    <tr>\n",
       "      <th>4</th>\n",
       "      <td>AUDI</td>\n",
       "      <td>A1 SPORTBACK 1ST EDITION</td>\n",
       "      <td>3BA-GBDAD</td>\n",
       "      <td>AT</td>\n",
       "      <td>2WD</td>\n",
       "      <td>1500</td>\n",
       "      <td>HATCHBACK</td>\n",
       "      <td>NaN</td>\n",
       "      <td>NaN</td>\n",
       "      <td>GASOLINE</td>\n",
       "      <td>8.573479e+06</td>\n",
       "    </tr>\n",
       "    <tr>\n",
       "      <th>...</th>\n",
       "      <td>...</td>\n",
       "      <td>...</td>\n",
       "      <td>...</td>\n",
       "      <td>...</td>\n",
       "      <td>...</td>\n",
       "      <td>...</td>\n",
       "      <td>...</td>\n",
       "      <td>...</td>\n",
       "      <td>...</td>\n",
       "      <td>...</td>\n",
       "      <td>...</td>\n",
       "    </tr>\n",
       "    <tr>\n",
       "      <th>5274</th>\n",
       "      <td>XPENG</td>\n",
       "      <td>G9 RWD LONG RANGE</td>\n",
       "      <td>NaN</td>\n",
       "      <td>AUT</td>\n",
       "      <td>RWD</td>\n",
       "      <td>93.1 kWh</td>\n",
       "      <td>NaN</td>\n",
       "      <td>2285 kg</td>\n",
       "      <td>5</td>\n",
       "      <td>ELECTRIC</td>\n",
       "      <td>1.300276e+07</td>\n",
       "    </tr>\n",
       "    <tr>\n",
       "      <th>5275</th>\n",
       "      <td>XPENG</td>\n",
       "      <td>G9 RWD STANDARD RANGE</td>\n",
       "      <td>NaN</td>\n",
       "      <td>AUT</td>\n",
       "      <td>RWD</td>\n",
       "      <td>75.8 kWh</td>\n",
       "      <td>NaN</td>\n",
       "      <td>2310 kg</td>\n",
       "      <td>5</td>\n",
       "      <td>ELECTRIC</td>\n",
       "      <td>1.215842e+07</td>\n",
       "    </tr>\n",
       "    <tr>\n",
       "      <th>5276</th>\n",
       "      <td>XPENG</td>\n",
       "      <td>P7 AWD PERFORMANCE</td>\n",
       "      <td>NaN</td>\n",
       "      <td>AUT</td>\n",
       "      <td>AWD</td>\n",
       "      <td>82.7 kWh</td>\n",
       "      <td>NaN</td>\n",
       "      <td>2215 kg</td>\n",
       "      <td>5</td>\n",
       "      <td>ELECTRIC</td>\n",
       "      <td>1.236951e+07</td>\n",
       "    </tr>\n",
       "    <tr>\n",
       "      <th>5277</th>\n",
       "      <td>XPENG</td>\n",
       "      <td>P7 RWD LONG RANGE</td>\n",
       "      <td>NaN</td>\n",
       "      <td>AUT</td>\n",
       "      <td>RWD</td>\n",
       "      <td>82.7 kWh</td>\n",
       "      <td>NaN</td>\n",
       "      <td>2095 kg</td>\n",
       "      <td>5</td>\n",
       "      <td>ELECTRIC</td>\n",
       "      <td>1.046975e+07</td>\n",
       "    </tr>\n",
       "    <tr>\n",
       "      <th>5278</th>\n",
       "      <td>XPENG</td>\n",
       "      <td>P7 WING EDITION</td>\n",
       "      <td>NaN</td>\n",
       "      <td>AUT</td>\n",
       "      <td>AWD</td>\n",
       "      <td>82.7 kWh</td>\n",
       "      <td>NaN</td>\n",
       "      <td>2255 kg</td>\n",
       "      <td>5</td>\n",
       "      <td>ELECTRIC</td>\n",
       "      <td>1.469143e+07</td>\n",
       "    </tr>\n",
       "  </tbody>\n",
       "</table>\n",
       "<p>5279 rows × 11 columns</p>\n",
       "</div>"
      ],
      "text/plain": [
       "        Make                           Model  ...      Fuel   CRSP (KES.)\n",
       "0     AIWAYS                              U5  ...  ELECTRIC  5.910345e+06\n",
       "1     AIWAYS                              U6  ...  ELECTRIC  8.232266e+06\n",
       "2       AUDI  3.0TFSI QUATTRO S LINE PACKAGE  ...  GASOLINE  1.621063e+07\n",
       "3       AUDI           A1 SPORTBACK 1.0 TFSI  ...  GASOLINE  5.953578e+06\n",
       "4       AUDI        A1 SPORTBACK 1ST EDITION  ...  GASOLINE  8.573479e+06\n",
       "...      ...                             ...  ...       ...           ...\n",
       "5274   XPENG               G9 RWD LONG RANGE  ...  ELECTRIC  1.300276e+07\n",
       "5275   XPENG           G9 RWD STANDARD RANGE  ...  ELECTRIC  1.215842e+07\n",
       "5276   XPENG              P7 AWD PERFORMANCE  ...  ELECTRIC  1.236951e+07\n",
       "5277   XPENG               P7 RWD LONG RANGE  ...  ELECTRIC  1.046975e+07\n",
       "5278   XPENG                 P7 WING EDITION  ...  ELECTRIC  1.469143e+07\n",
       "\n",
       "[5279 rows x 11 columns]"
      ]
     },
     "execution_count": 267,
     "metadata": {},
     "output_type": "execute_result"
    }
   ],
   "source": [
    "# Load and print out the data\n",
    "df = pd.read_excel('KRA Vehicle Data.xlsx', sheet_name = 'M.Vehicle CRSP July 2025', header = 1)\n",
    "\n",
    "df"
   ]
  },
  {
   "cell_type": "code",
   "execution_count": 268,
   "id": "fb497c4e",
   "metadata": {},
   "outputs": [
    {
     "name": "stdout",
     "output_type": "stream",
     "text": [
      "The dataset has 5279 rows and 11 columns.\n"
     ]
    }
   ],
   "source": [
    "# Check shape\n",
    "print(f\"The dataset has {df.shape[0]} rows and {df.shape[1]} columns.\")"
   ]
  },
  {
   "cell_type": "code",
   "execution_count": 269,
   "id": "3415deb0",
   "metadata": {},
   "outputs": [
    {
     "data": {
      "text/plain": [
       "Index(['Make', 'Model', 'Model \\nnumber', 'Transmission',\n",
       "       'Drive\\nConfiguration', 'Engine \\nCapacity', 'Body \\nType ', 'GVW',\n",
       "       'Seating', 'Fuel', 'CRSP (KES.)'],\n",
       "      dtype='object')"
      ]
     },
     "execution_count": 269,
     "metadata": {},
     "output_type": "execute_result"
    }
   ],
   "source": [
    "# Print out column names\n",
    "df.columns"
   ]
  },
  {
   "cell_type": "markdown",
   "id": "5e277d0c",
   "metadata": {},
   "source": [
    "These columns do not look clean. They are readable but they could use some cleaning. We will remove the '\\n' and replace the space with an underscore."
   ]
  },
  {
   "cell_type": "code",
   "execution_count": 270,
   "id": "8a9b1de6",
   "metadata": {},
   "outputs": [
    {
     "data": {
      "text/plain": [
       "Index(['make', 'model', 'model_number', 'transmission', 'drive_configuration',\n",
       "       'engine_capacity', 'body_type', 'gvw', 'seating', 'fuel',\n",
       "       'crsp_in_kes'],\n",
       "      dtype='object')"
      ]
     },
     "execution_count": 270,
     "metadata": {},
     "output_type": "execute_result"
    }
   ],
   "source": [
    "# Standardise columns\n",
    "df.columns = df.columns.str.strip().str.lower().str.replace('\\n', '_')\n",
    "\n",
    "# Rename columns\n",
    "df = df.rename(columns = \n",
    "                       {\n",
    "                           'model _number': 'model_number',\n",
    "                           'engine _capacity': 'engine_capacity',\n",
    "                           'body _type': 'body_type',\n",
    "                           'crsp (kes.)': 'crsp_in_kes'\n",
    "                       })\n",
    "df.columns"
   ]
  },
  {
   "cell_type": "code",
   "execution_count": 271,
   "id": "e394b61f",
   "metadata": {},
   "outputs": [
    {
     "name": "stdout",
     "output_type": "stream",
     "text": [
      "<class 'pandas.core.frame.DataFrame'>\n",
      "RangeIndex: 5279 entries, 0 to 5278\n",
      "Data columns (total 11 columns):\n",
      " #   Column               Non-Null Count  Dtype  \n",
      "---  ------               --------------  -----  \n",
      " 0   make                 5279 non-null   object \n",
      " 1   model                5279 non-null   object \n",
      " 2   model_number         3437 non-null   object \n",
      " 3   transmission         5231 non-null   object \n",
      " 4   drive_configuration  4754 non-null   object \n",
      " 5   engine_capacity      5212 non-null   object \n",
      " 6   body_type            5220 non-null   object \n",
      " 7   gvw                  1708 non-null   object \n",
      " 8   seating              2943 non-null   object \n",
      " 9   fuel                 5263 non-null   object \n",
      " 10  crsp_in_kes          5277 non-null   float64\n",
      "dtypes: float64(1), object(10)\n",
      "memory usage: 453.8+ KB\n"
     ]
    }
   ],
   "source": [
    "# Get metadata\n",
    "df.info()"
   ]
  },
  {
   "cell_type": "markdown",
   "id": "2e4d4256",
   "metadata": {},
   "source": [
    "> #### *Observation:*\n",
    "> The dataset contains largely categorical variables (Dtype: 'object') with the exception of crsp_in_kes which is the only numerical variable, which has monetary values in Kenyan Shillings"
   ]
  },
  {
   "cell_type": "markdown",
   "id": "b5474745",
   "metadata": {},
   "source": [
    "Next we get basic descriptive statistical information about these variables. First we start with categorical columns then the numeric column"
   ]
  },
  {
   "cell_type": "code",
   "execution_count": 272,
   "id": "36a799bd",
   "metadata": {},
   "outputs": [
    {
     "data": {
      "text/html": [
       "<div>\n",
       "<style scoped>\n",
       "    .dataframe tbody tr th:only-of-type {\n",
       "        vertical-align: middle;\n",
       "    }\n",
       "\n",
       "    .dataframe tbody tr th {\n",
       "        vertical-align: top;\n",
       "    }\n",
       "\n",
       "    .dataframe thead th {\n",
       "        text-align: right;\n",
       "    }\n",
       "</style>\n",
       "<table border=\"1\" class=\"dataframe\">\n",
       "  <thead>\n",
       "    <tr style=\"text-align: right;\">\n",
       "      <th></th>\n",
       "      <th>count</th>\n",
       "      <th>unique</th>\n",
       "      <th>top</th>\n",
       "      <th>freq</th>\n",
       "    </tr>\n",
       "  </thead>\n",
       "  <tbody>\n",
       "    <tr>\n",
       "      <th>make</th>\n",
       "      <td>5279</td>\n",
       "      <td>66</td>\n",
       "      <td>LANDROVER</td>\n",
       "      <td>479</td>\n",
       "    </tr>\n",
       "    <tr>\n",
       "      <th>model</th>\n",
       "      <td>5279</td>\n",
       "      <td>4073</td>\n",
       "      <td>RANGER</td>\n",
       "      <td>27</td>\n",
       "    </tr>\n",
       "    <tr>\n",
       "      <th>model_number</th>\n",
       "      <td>3437</td>\n",
       "      <td>2347</td>\n",
       "      <td>MAN</td>\n",
       "      <td>31</td>\n",
       "    </tr>\n",
       "    <tr>\n",
       "      <th>transmission</th>\n",
       "      <td>5231</td>\n",
       "      <td>66</td>\n",
       "      <td>AT</td>\n",
       "      <td>1763</td>\n",
       "    </tr>\n",
       "    <tr>\n",
       "      <th>drive_configuration</th>\n",
       "      <td>4754</td>\n",
       "      <td>49</td>\n",
       "      <td>2WD</td>\n",
       "      <td>2607</td>\n",
       "    </tr>\n",
       "    <tr>\n",
       "      <th>engine_capacity</th>\n",
       "      <td>5212</td>\n",
       "      <td>273</td>\n",
       "      <td>2000</td>\n",
       "      <td>702</td>\n",
       "    </tr>\n",
       "    <tr>\n",
       "      <th>body_type</th>\n",
       "      <td>5220</td>\n",
       "      <td>45</td>\n",
       "      <td>SUV</td>\n",
       "      <td>1058</td>\n",
       "    </tr>\n",
       "    <tr>\n",
       "      <th>gvw</th>\n",
       "      <td>1708</td>\n",
       "      <td>357</td>\n",
       "      <td>1090</td>\n",
       "      <td>25</td>\n",
       "    </tr>\n",
       "    <tr>\n",
       "      <th>seating</th>\n",
       "      <td>2943</td>\n",
       "      <td>24</td>\n",
       "      <td>5</td>\n",
       "      <td>1523</td>\n",
       "    </tr>\n",
       "    <tr>\n",
       "      <th>fuel</th>\n",
       "      <td>5263</td>\n",
       "      <td>21</td>\n",
       "      <td>GASOLINE</td>\n",
       "      <td>2351</td>\n",
       "    </tr>\n",
       "  </tbody>\n",
       "</table>\n",
       "</div>"
      ],
      "text/plain": [
       "                    count unique        top  freq\n",
       "make                 5279     66  LANDROVER   479\n",
       "model                5279   4073     RANGER    27\n",
       "model_number         3437   2347        MAN    31\n",
       "transmission         5231     66         AT  1763\n",
       "drive_configuration  4754     49        2WD  2607\n",
       "engine_capacity      5212    273       2000   702\n",
       "body_type            5220     45        SUV  1058\n",
       "gvw                  1708    357       1090    25\n",
       "seating              2943     24          5  1523\n",
       "fuel                 5263     21   GASOLINE  2351"
      ]
     },
     "execution_count": 272,
     "metadata": {},
     "output_type": "execute_result"
    }
   ],
   "source": [
    "# Get summary statistics of all categorical features\n",
    "df.describe(include = 'O').T"
   ]
  },
  {
   "cell_type": "code",
   "execution_count": 273,
   "id": "dcd0b659",
   "metadata": {},
   "outputs": [
    {
     "data": {
      "text/html": [
       "<div>\n",
       "<style scoped>\n",
       "    .dataframe tbody tr th:only-of-type {\n",
       "        vertical-align: middle;\n",
       "    }\n",
       "\n",
       "    .dataframe tbody tr th {\n",
       "        vertical-align: top;\n",
       "    }\n",
       "\n",
       "    .dataframe thead th {\n",
       "        text-align: right;\n",
       "    }\n",
       "</style>\n",
       "<table border=\"1\" class=\"dataframe\">\n",
       "  <thead>\n",
       "    <tr style=\"text-align: right;\">\n",
       "      <th></th>\n",
       "      <th>crsp_in_kes</th>\n",
       "    </tr>\n",
       "  </thead>\n",
       "  <tbody>\n",
       "    <tr>\n",
       "      <th>count</th>\n",
       "      <td>5.277000e+03</td>\n",
       "    </tr>\n",
       "    <tr>\n",
       "      <th>mean</th>\n",
       "      <td>1.377391e+07</td>\n",
       "    </tr>\n",
       "    <tr>\n",
       "      <th>std</th>\n",
       "      <td>1.832609e+07</td>\n",
       "    </tr>\n",
       "    <tr>\n",
       "      <th>min</th>\n",
       "      <td>5.444018e+05</td>\n",
       "    </tr>\n",
       "    <tr>\n",
       "      <th>25%</th>\n",
       "      <td>4.879632e+06</td>\n",
       "    </tr>\n",
       "    <tr>\n",
       "      <th>50%</th>\n",
       "      <td>8.882243e+06</td>\n",
       "    </tr>\n",
       "    <tr>\n",
       "      <th>75%</th>\n",
       "      <td>1.569003e+07</td>\n",
       "    </tr>\n",
       "    <tr>\n",
       "      <th>max</th>\n",
       "      <td>4.239280e+08</td>\n",
       "    </tr>\n",
       "  </tbody>\n",
       "</table>\n",
       "</div>"
      ],
      "text/plain": [
       "        crsp_in_kes\n",
       "count  5.277000e+03\n",
       "mean   1.377391e+07\n",
       "std    1.832609e+07\n",
       "min    5.444018e+05\n",
       "25%    4.879632e+06\n",
       "50%    8.882243e+06\n",
       "75%    1.569003e+07\n",
       "max    4.239280e+08"
      ]
     },
     "execution_count": 273,
     "metadata": {},
     "output_type": "execute_result"
    }
   ],
   "source": [
    "# Get summary statistics of numeric feature\n",
    "df.describe()"
   ]
  },
  {
   "cell_type": "code",
   "execution_count": 274,
   "id": "02ffb9da",
   "metadata": {},
   "outputs": [
    {
     "name": "stdout",
     "output_type": "stream",
     "text": [
      "Duplicates: 12\n",
      "\n",
      "Missing Values Overview:\n",
      "\n",
      "                     Null Count  Null Percentage (%)\n",
      "make                          0                 0.00\n",
      "model                         0                 0.00\n",
      "model_number               1842                34.89\n",
      "transmission                 48                 0.91\n",
      "drive_configuration         525                 9.95\n",
      "engine_capacity              67                 1.27\n",
      "body_type                    59                 1.12\n",
      "gvw                        3571                67.65\n",
      "seating                    2336                44.25\n",
      "fuel                         16                 0.30\n",
      "crsp_in_kes                   2                 0.04\n"
     ]
    }
   ],
   "source": [
    "# Check duplicates\n",
    "print(\"Duplicates:\", df.duplicated().sum())\n",
    "\n",
    "# Check missing values with counts & percentages\n",
    "null_counts =df.isna().sum()\n",
    "null_percentages = (null_counts / len(df)) * 100\n",
    "\n",
    "print(\"\\nMissing Values Overview:\\n\")\n",
    "print(pd.concat([null_counts.rename(\"Null Count\"), null_percentages.round(2).rename(\"Null Percentage (%)\")], axis = 1))"
   ]
  },
  {
   "cell_type": "code",
   "execution_count": 275,
   "id": "27bca0de",
   "metadata": {},
   "outputs": [
    {
     "name": "stdout",
     "output_type": "stream",
     "text": [
      "Duplicates after removal: 0\n"
     ]
    }
   ],
   "source": [
    "# Drop duplicates\n",
    "df.drop_duplicates(inplace = True)\n",
    "print(\"Duplicates after removal:\", df.duplicated().sum())"
   ]
  },
  {
   "cell_type": "markdown",
   "id": "063d2205",
   "metadata": {},
   "source": [
    "### DATA UNDERSTANDING\n",
    "\n",
    "What do all these columns mean?"
   ]
  },
  {
   "cell_type": "markdown",
   "id": "e5a9f36e",
   "metadata": {},
   "source": [
    "### DATA CLEANING"
   ]
  },
  {
   "cell_type": "markdown",
   "id": "fd66bc9b",
   "metadata": {},
   "source": [
    "We start with the easiest one to clean: crsp_in_kes. We will impute this with the median value"
   ]
  },
  {
   "cell_type": "code",
   "execution_count": null,
   "id": "5793b498",
   "metadata": {},
   "outputs": [
    {
     "name": "stdout",
     "output_type": "stream",
     "text": [
      "Missing values in 'crsp_in_kes': 0\n"
     ]
    }
   ],
   "source": [
    "# Imputing with median\n",
    "df['crsp_in_kes'] = df['crsp_in_kes'].fillna(df['crsp_in_kes'].median())\n",
    "\n",
    "# Sanity check\n",
    "print(f\"Missing values in 'crsp_in_kes': {df['crsp_in_kes'].isna().sum()}\")"
   ]
  },
  {
   "cell_type": "markdown",
   "id": "3593efdd",
   "metadata": {},
   "source": [
    "Next we deal with the nulls in the fuel column. But first, let's explore the column. See what values lie within."
   ]
  },
  {
   "cell_type": "code",
   "execution_count": 277,
   "id": "c75aebbb",
   "metadata": {},
   "outputs": [
    {
     "data": {
      "text/plain": [
       "array(['ELECTRIC', 'GASOLINE', 'HYBRID', 'DIESEL', 'PLUG-IN HYBRID',\n",
       "       'PLUG-IN HYBRID ', 'ELECCTRIC', 'ELECTRIC(EV)', 'PETROL',\n",
       "       'PLUG-IN-HYBRID', nan, ' DIESEL', 'CNG', 'LNG', 'PETROL/ELECTRIC',\n",
       "       ' PETROL', 'DEISEL', 'PETROL/DIESEL', '40', '37', 'DIESE L',\n",
       "       'DI ESEL'], dtype=object)"
      ]
     },
     "execution_count": 277,
     "metadata": {},
     "output_type": "execute_result"
    }
   ],
   "source": [
    "df['fuel'].unique()"
   ]
  },
  {
   "cell_type": "markdown",
   "id": "039e2032",
   "metadata": {},
   "source": [
    "The fuel column is a mess: inconsistent casing, typos, stray numbers, random separators.  \n",
    "Before we even think of imputing, we need to normalize this chaos.  \n",
    "\n",
    "Game Plan\n",
    "1. Strip whitespace + enforce consistent casing  \n",
    "   Electric instead of ELECTRIC, Diesel instead of Diese L.  \n",
    "2. Fix typos / misspellings  \n",
    "   Elecctric to EV, Deisel to Diesel.  \n",
    "3. Standardize labels  \n",
    "   - Electric to EV  \n",
    "   - Plug-In Hybrid & variants to Plug-in Hybrid  \n",
    "   - Gasoline to Petrol  \n",
    "4. Handle oddballs \n",
    "   - Petrol/Diesel to Dual Fuel  \n",
    "   - Petrol/Electric to Hybrid  \n",
    "   - \"37\", \"40\" to 'Unknown'"
   ]
  },
  {
   "cell_type": "code",
   "execution_count": 278,
   "id": "7085972d",
   "metadata": {},
   "outputs": [
    {
     "data": {
      "text/plain": [
       "array(['EV', 'Petrol', 'Hybrid', 'Diesel', 'Plug-In Hybrid', nan, 'CNG',\n",
       "       'LNG', 'Dual Fuel', 'Unknown'], dtype=object)"
      ]
     },
     "execution_count": 278,
     "metadata": {},
     "output_type": "execute_result"
    }
   ],
   "source": [
    "# Define normalization map\n",
    "fuel_map = {\n",
    "    \"Electric\": \"EV\",\n",
    "    \"Elecctric\": \"EV\",\n",
    "    \"Electric(Ev)\": \"EV\",\n",
    "    \"Gasoline\": \"Petrol\",\n",
    "    \"Deisel\": \"Diesel\",\n",
    "    \"Diese L\": \"Diesel\",\n",
    "    \"Di Esel\": \"Diesel\",\n",
    "    \"Plug-In-Hybrid\": \"Plug-In Hybrid\",\n",
    "    \"Petrol/Electric\": \"Hybrid\",\n",
    "    \"Petrol/Diesel\": \"Dual Fuel\",\n",
    "    \"Cng\": \"CNG\",\n",
    "    \"Lng\": \"LNG\",\n",
    "    \"40\": \"Unknown\",\n",
    "    \"37\": \"Unknown\"\n",
    "}\n",
    "\n",
    "# Clean fuel column\n",
    "df['fuel'] = df['fuel'].str.strip().str.title().replace(fuel_map)\n",
    "\n",
    "# Sanity check\n",
    "df['fuel'].unique()"
   ]
  },
  {
   "cell_type": "markdown",
   "id": "5d9b7524",
   "metadata": {},
   "source": [
    "Perfect! Now we check the value counts for these variables so we know what metric we will use for imputation"
   ]
  },
  {
   "cell_type": "code",
   "execution_count": 279,
   "id": "3cf3af28",
   "metadata": {},
   "outputs": [
    {
     "data": {
      "text/plain": [
       "fuel\n",
       "Petrol            3014\n",
       "Diesel            1511\n",
       "EV                 356\n",
       "Hybrid             292\n",
       "Plug-In Hybrid      71\n",
       "CNG                  2\n",
       "LNG                  2\n",
       "Unknown              2\n",
       "Dual Fuel            1\n",
       "Name: count, dtype: int64"
      ]
     },
     "execution_count": 279,
     "metadata": {},
     "output_type": "execute_result"
    }
   ],
   "source": [
    "df['fuel'].value_counts()"
   ]
  },
  {
   "cell_type": "markdown",
   "id": "46fa7a53",
   "metadata": {},
   "source": [
    "We will impute using the mode"
   ]
  },
  {
   "cell_type": "code",
   "execution_count": 281,
   "id": "978a244e",
   "metadata": {},
   "outputs": [
    {
     "name": "stdout",
     "output_type": "stream",
     "text": [
      "Missing values in 'fuel': 0\n"
     ]
    }
   ],
   "source": [
    "# Imputing with mode\n",
    "df['fuel'] = df['fuel'].fillna(df['fuel'].mode()[0])\n",
    "\n",
    "# Sanity check\n",
    "print(f\"Missing values in 'fuel': {df['fuel'].isna().sum()}\")"
   ]
  },
  {
   "cell_type": "markdown",
   "id": "0b3c4c8d",
   "metadata": {},
   "source": [
    "We will drop the Unknown category because it offers no analytical value whatsoever. We do not have a fuel called Unknown"
   ]
  },
  {
   "cell_type": "code",
   "execution_count": 282,
   "id": "3ade7023",
   "metadata": {},
   "outputs": [
    {
     "name": "stdout",
     "output_type": "stream",
     "text": [
      "Missing values in 'fuel': 0\n"
     ]
    }
   ],
   "source": [
    "# Dropping Unknown feature in fuel column\n",
    "df['fuel'].drop(df[df['fuel'] == 'Unknown'].index, inplace=True)\n",
    "\n",
    "# Sanity check\n",
    "print(f\"Missing values in 'fuel': {df['fuel'].isna().sum()}\")"
   ]
  },
  {
   "cell_type": "markdown",
   "id": "76f88686",
   "metadata": {},
   "source": [
    "Now let's deal with body_type"
   ]
  },
  {
   "cell_type": "code",
   "execution_count": 283,
   "id": "a30c37f3",
   "metadata": {},
   "outputs": [
    {
     "data": {
      "text/plain": [
       "array(['SUV', 'HATCHBACK', 'SEDAN', 'WAGON', 'CONVERTIBLE', 'COUPE',\n",
       "       'CONVRTIBLE', 'suv', 'PICKUP', 'CROSSOVER', 'D/CAB', 'S. WAGON',\n",
       "       'VAN', 'TRUCK', 'MINIVAN', 3, 'TRK', 'S/CAB', 'DOUBLE  CAB',\n",
       "       'TIPPER', 'MIXER', 'BUS', 'SAL', 'PM', 'STATION WAGON',\n",
       "       'DOUBLE CABIN', 'SINGLE CABIN', 'PEOPLE MOVER', 'DUAL CAB',\n",
       "       'CREW CAB', 'OTHER', 'S/CABIN', nan, 'SINGLE CAB', 'S/WAGON',\n",
       "       'MINVAN', 'SUV-COUPE', 'ROADSTER', 'TRACTOR', 'HATCBACK',\n",
       "       'PICK UP', 'TRANSIT  MIXER', 'PRIM£ MOVER', 'AMBULANCE',\n",
       "       'MINI BUS', 'SALOON'], dtype=object)"
      ]
     },
     "execution_count": 283,
     "metadata": {},
     "output_type": "execute_result"
    }
   ],
   "source": [
    "df['body_type'].unique()"
   ]
  },
  {
   "cell_type": "code",
   "execution_count": null,
   "id": "dd3b059e",
   "metadata": {},
   "outputs": [],
   "source": []
  }
 ],
 "metadata": {
  "kernelspec": {
   "display_name": "ds-env",
   "language": "python",
   "name": "python3"
  },
  "language_info": {
   "codemirror_mode": {
    "name": "ipython",
    "version": 3
   },
   "file_extension": ".py",
   "mimetype": "text/x-python",
   "name": "python",
   "nbconvert_exporter": "python",
   "pygments_lexer": "ipython3",
   "version": "3.13.5"
  }
 },
 "nbformat": 4,
 "nbformat_minor": 5
}
