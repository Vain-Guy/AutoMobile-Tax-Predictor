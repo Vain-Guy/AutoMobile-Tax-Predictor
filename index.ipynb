{
 "cells": [
  {
   "cell_type": "markdown",
   "id": "69cefeb6",
   "metadata": {},
   "source": [
    "### PREDICTING CRSP (CURRENT RETAIL SELLING PRICE) FOR KRA AUTOMOBILE DATA"
   ]
  },
  {
   "cell_type": "code",
   "execution_count": null,
   "id": "95ff4ebc",
   "metadata": {},
   "outputs": [],
   "source": [
    "# Mathematical Operations Library\n",
    "import numpy as np\n",
    "\n",
    "# Data Manipulation Library\n",
    "import pandas as pd\n",
    "\n",
    "# Visualisation Libraries\n",
    "import matplotlib.pyplot as plt\n",
    "import seaborn as sns\n",
    "\n",
    "# Statistical Libraries\n",
    "import statsmodels.api as sm\n",
    "\n",
    "# Machine Learning Libraries\n",
    "import scikit-learn as sk"
   ]
  }
 ],
 "metadata": {
  "kernelspec": {
   "display_name": "Python 3",
   "language": "python",
   "name": "python3"
  },
  "language_info": {
   "name": "python",
   "version": "3.13.5"
  }
 },
 "nbformat": 4,
 "nbformat_minor": 5
}
